{
 "cells": [
  {
   "cell_type": "code",
   "execution_count": null,
   "id": "7970906e-4580-4549-aac8-54707d8b82e4",
   "metadata": {},
   "outputs": [],
   "source": [
    "from pathlib import Path\n",
    "from timeeval import TimeEval,ResourceConstraints, DatasetManager, DefaultMetrics, Algorithm, TrainingType, InputDimensionality\n",
    "from timeeval.adapters import DockerAdapter\n",
    "from timeeval.data_types import AlgorithmParameter\n",
    "from timeeval.params import FixedParameters\n",
    "from timeeval.resource_constraints import GB\n",
    "from timeeval.params import ParameterConfig\n",
    "import numpy as np\n",
    "from timeeval.utils.window import ReverseWindowing"
   ]
  },
  {
   "cell_type": "markdown",
   "id": "b430218a-90c0-48b2-bc46-35b91a3304e5",
   "metadata": {},
   "source": [
    "### Load Datasets"
   ]
  },
  {
   "cell_type": "code",
   "execution_count": null,
   "id": "bb2ad4e2-80d8-4a45-b0df-dba2ed797e2e",
   "metadata": {},
   "outputs": [],
   "source": [
    "custom_dataset = Path(r\"data/datasets.json\")\n",
    "dm = DatasetManager(Path.cwd() / \"data\", create_if_missing=True, custom_datasets_file=custom_dataset)\n",
    "datasets = dm.select()\n",
    "# datasets = dm.select(dataset='unsupervised_dataset.1')"
   ]
  },
  {
   "cell_type": "markdown",
   "id": "695884ab-c81d-4b70-aec9-950239ab79ed",
   "metadata": {},
   "source": [
    "### Configure Algorithms post processing\n"
   ]
  },
  {
   "cell_type": "code",
   "execution_count": null,
   "id": "fbbf9e73",
   "metadata": {},
   "outputs": [],
   "source": [
    "# post-processing for LSTM-AD\n",
    "def post_lstm_ad(scores: np.ndarray, args: dict) -> np.ndarray:\n",
    "    window_size = args.get(\"hyper_params\", {}).get(\"window_size\", 30)\n",
    "    prediction_window_size = args.get(\"hyper_params\", {}).get(\"prediction_window_size\", 1)\n",
    "    return ReverseWindowing(window_size=window_size + prediction_window_size).fit_transform(scores)\n",
    "\n",
    "\n",
    "# post-processing for EncDec-AD\n",
    "def post_encdec_ad(scores: np.ndarray, args: dict) -> np.ndarray:\n",
    "    window_size = args.get(\"hyper_params\", {}).get(\"anomaly_window_size\", 30)\n",
    "    return ReverseWindowing(window_size=2 * window_size).fit_transform(scores)\n",
    "\n",
    "\n",
    "# post-processing for DeepAnT\n",
    "def _post_deepant(scores: np.ndarray, args: dict) -> np.ndarray:\n",
    "    window_size = args.get(\"hyper_params\", {}).get(\"window_size\", 45)\n",
    "    prediction_window_size = args.get(\"hyper_params\", {}).get(\"prediction_window_size\", 1)\n",
    "    size = window_size + prediction_window_size\n",
    "    return ReverseWindowing(window_size=size).fit_transform(scores)"
   ]
  },
  {
   "cell_type": "markdown",
   "id": "cc635511",
   "metadata": {},
   "source": [
    "### Configure Algorithms to Evaluate\n",
    "\n",
    "Data algorithm images should already have been pulled with the docker command: `docker pull`"
   ]
  },
  {
   "cell_type": "code",
   "execution_count": null,
   "id": "5d35e59c-2734-4c4c-a786-aa4cb7945044",
   "metadata": {},
   "outputs": [],
   "source": [
    "\n",
    "algorithms = [\n",
    "        Algorithm(\n",
    "        name=\"LOF\",\n",
    "        main=DockerAdapter(\n",
    "            image_name=\"ghcr.io/timeeval/lof\",\n",
    "            tag=\"0.3.1\",\n",
    "            skip_pull=True\n",
    "        ),\n",
    "        data_as_file=True,\n",
    "        training_type=TrainingType.UNSUPERVISED,\n",
    "        input_dimensionality=InputDimensionality.MULTIVARIATE\n",
    "    ),\n",
    "    Algorithm(\n",
    "        name=\"KNN\",\n",
    "        main=DockerAdapter(\n",
    "            image_name=\"ghcr.io/timeeval/knn\",\n",
    "            tag=\"0.3.1\",\n",
    "            skip_pull=True\n",
    "        ),\n",
    "        data_as_file=True,\n",
    "        training_type=TrainingType.UNSUPERVISED,\n",
    "        input_dimensionality=InputDimensionality.MULTIVARIATE\n",
    "    ),\n",
    "    Algorithm(\n",
    "        name=\"KMeans\",\n",
    "        main=DockerAdapter(\n",
    "            image_name=\"ghcr.io/timeeval/kmeans\",\n",
    "            tag=\"0.3.0\",\n",
    "            skip_pull=True\n",
    "        ),\n",
    "        data_as_file=True,\n",
    "        training_type=TrainingType.UNSUPERVISED,\n",
    "        input_dimensionality=InputDimensionality.MULTIVARIATE\n",
    "    ),\n",
    "    Algorithm(\n",
    "        name=\"PCC\",\n",
    "        main=DockerAdapter(\n",
    "            image_name=\"ghcr.io/timeeval/pcc\",\n",
    "            tag=\"0.3.1\",\n",
    "            skip_pull=True\n",
    "        ),\n",
    "        data_as_file=True,\n",
    "        training_type=TrainingType.UNSUPERVISED,\n",
    "        input_dimensionality=InputDimensionality.MULTIVARIATE\n",
    "    ),\n",
    "     Algorithm(\n",
    "        name=\"iForest\",\n",
    "        main=DockerAdapter(\n",
    "            image_name=\"ghcr.io/timeeval/iforest\",\n",
    "            tag=\"0.3.1\",\n",
    "            skip_pull=True\n",
    "        ),\n",
    "        data_as_file=True,\n",
    "        training_type=TrainingType.UNSUPERVISED,\n",
    "        input_dimensionality=InputDimensionality.MULTIVARIATE\n",
    "    ),\n",
    "    Algorithm(\n",
    "        name=\"IF-LOF\",\n",
    "        main=DockerAdapter(\n",
    "            image_name=\"ghcr.io/timeeval/if_lof\",\n",
    "            tag=\"0.3.0\",\n",
    "            skip_pull=True\n",
    "        ),\n",
    "        data_as_file=True,\n",
    "        training_type=TrainingType.UNSUPERVISED,\n",
    "        input_dimensionality=InputDimensionality.MULTIVARIATE\n",
    "    ),\n",
    "    Algorithm(\n",
    "        name=\"LSTM-AD\",\n",
    "        main=DockerAdapter(\n",
    "            image_name=\"ghcr.io/timeeval/lstm_ad\",\n",
    "            tag=\"0.3.0\",\n",
    "            skip_pull=True\n",
    "        ),\n",
    "        data_as_file=True,\n",
    "        training_type=TrainingType.SEMI_SUPERVISED,\n",
    "        input_dimensionality=InputDimensionality.MULTIVARIATE,\n",
    "        postprocess=post_lstm_ad\n",
    "    ),\n",
    "    Algorithm(\n",
    "        name=\"Roburst PCA\",\n",
    "        main=DockerAdapter(\n",
    "            image_name=\"ghcr.io/timeeval/robust_pca\",\n",
    "            tag=\"0.3.0\",\n",
    "            skip_pull=True\n",
    "        ),\n",
    "        data_as_file=True,\n",
    "        training_type=TrainingType.SEMI_SUPERVISED,\n",
    "        input_dimensionality=InputDimensionality.MULTIVARIATE,\n",
    "    ),\n",
    "    Algorithm(\n",
    "        name=\"FastMCD\",\n",
    "        main=DockerAdapter(\n",
    "            image_name=\"ghcr.io/timeeval/fast_mcd\",\n",
    "            tag=\"0.3.0\",\n",
    "            skip_pull=True\n",
    "        ),\n",
    "        data_as_file=True,\n",
    "        training_type=TrainingType.SEMI_SUPERVISED,\n",
    "        input_dimensionality=InputDimensionality.MULTIVARIATE,\n",
    "    ),\n",
    "    Algorithm(\n",
    "        name=\"EncDec-AD\",\n",
    "        main=DockerAdapter(\n",
    "            image_name=\"ghcr.io/timeeval/encdec_ad\",\n",
    "            tag=\"0.3.0\",\n",
    "            skip_pull=True\n",
    "        ),\n",
    "        data_as_file=True,\n",
    "        training_type=TrainingType.SEMI_SUPERVISED,\n",
    "        input_dimensionality=InputDimensionality.MULTIVARIATE,\n",
    "        postprocess=post_encdec_ad\n",
    "    ),\n",
    "    Algorithm(\n",
    "        name=\"DeepAnT\",\n",
    "        main=DockerAdapter(\n",
    "            image_name=\"ghcr.io/timeeval/deepant\",\n",
    "            tag=\"0.3.0\",\n",
    "            skip_pull=True\n",
    "        ),\n",
    "        data_as_file=True,\n",
    "        training_type=TrainingType.SEMI_SUPERVISED,\n",
    "        input_dimensionality=InputDimensionality.MULTIVARIATE,\n",
    "        postprocess=_post_deepant\n",
    "    ),\n",
    "    ]"
   ]
  },
  {
   "cell_type": "markdown",
   "id": "bd599251-2670-4351-815a-5cd8940bb6e9",
   "metadata": {},
   "source": [
    "### Configure evaluation run\n",
    "#### set the number of repetitions of each algorithm-dataset combination (e.g. for runtime measurements):\n",
    "#### set resource constraints"
   ]
  },
  {
   "cell_type": "code",
   "execution_count": null,
   "id": "24a084b0-b048-42ba-853a-7ef651ada64b",
   "metadata": {},
   "outputs": [],
   "source": [
    "repetitions = 1000\n",
    "rcs = ResourceConstraints(\n",
    "    task_memory_limit = 3 * GB,\n",
    "    task_cpu_limit = 1.0,\n",
    ")"
   ]
  },
  {
   "cell_type": "markdown",
   "id": "a010a2ab-35e5-49db-8769-4a6db2df5a1f",
   "metadata": {},
   "source": [
    "### Configure TimeEval"
   ]
  },
  {
   "cell_type": "code",
   "execution_count": null,
   "id": "0af89948-3c99-4785-a6e7-86532e52d769",
   "metadata": {},
   "outputs": [],
   "source": [
    "timeeval = TimeEval(dm, datasets, algorithms,\n",
    "                        repetitions=repetitions,\n",
    "                        resource_constraints=rcs,\n",
    "                        metrics=[DefaultMetrics.ROC_AUC, DefaultMetrics.PR_AUC, DefaultMetrics.RANGE_PR_AUC],\n",
    "                        force_dimensionality_match=True,\n",
    "                        force_training_type_match=True\n",
    "                        )\n",
    "\n"
   ]
  },
  {
   "cell_type": "markdown",
   "id": "70667c28",
   "metadata": {},
   "source": [
    "### Run TimeEval and aggregate all Result"
   ]
  },
  {
   "cell_type": "code",
   "execution_count": null,
   "id": "18407d49-8430-4d61-a71f-42ecf583f008",
   "metadata": {},
   "outputs": [],
   "source": [
    "timeeval.run()\n",
    "results = timeeval.get_results(aggregated=True)\n",
    "results"
   ]
  }
 ],
 "metadata": {
  "kernelspec": {
   "display_name": "Python 3 (ipykernel)",
   "language": "python",
   "name": "python3"
  },
  "language_info": {
   "codemirror_mode": {
    "name": "ipython",
    "version": 3
   },
   "file_extension": ".py",
   "mimetype": "text/x-python",
   "name": "python",
   "nbconvert_exporter": "python",
   "pygments_lexer": "ipython3",
   "version": "3.8.18"
  }
 },
 "nbformat": 4,
 "nbformat_minor": 5
}
