{
 "cells": [
  {
   "cell_type": "code",
   "execution_count": 7,
   "metadata": {},
   "outputs": [],
   "source": [
    "import pandas as pd\n",
    "import numpy as np"
   ]
  },
  {
   "cell_type": "code",
   "execution_count": 8,
   "metadata": {},
   "outputs": [],
   "source": [
    "# Load the CSV file\n",
    "tsad_result = pd.read_csv(r\"tsad-evaluation-results.csv\")\n",
    "df = pd.read_csv(tsad_result)"
   ]
  },
  {
   "cell_type": "code",
   "execution_count": null,
   "metadata": {},
   "outputs": [],
   "source": [
    "\n",
    "# List of algorithms to filter\n",
    "algorithms = [\n",
    "    'DeepAnT', 'EncDec-AD', 'FastMCD', 'IF-LOF', 'k-Means', 'KNN', 'LOF', \n",
    "    'LSTM-AD', 'PCC', 'RobustPCA', 'Isolation Forest (iForest)'\n",
    "]"
   ]
  },
  {
   "cell_type": "code",
   "execution_count": null,
   "metadata": {},
   "outputs": [],
   "source": [
    "# Filter the dataframe for the specified algorithms and Status OK\n",
    "filtered_df = df[(df['algorithm'].isin(algorithms)) & (df['status'] == 'Status.OK')]\n",
    "# Replace NaN values with 0\n",
    "filtered_df = filtered_df.fillna(0)"
   ]
  },
  {
   "cell_type": "code",
   "execution_count": null,
   "metadata": {},
   "outputs": [],
   "source": [
    "# Aggregate average for specified columns\n",
    "aggregated_df = filtered_df.groupby('algorithm').agg({\n",
    "    'ROC_AUC': 'mean',\n",
    "    'PR_AUC': 'mean',\n",
    "    'RANGE_PR_AUC': 'mean',\n",
    "    'AVERAGE_PRECISION': 'mean',\n",
    "    'overall_time': 'mean'\n",
    "}).reset_index()"
   ]
  },
  {
   "cell_type": "code",
   "execution_count": null,
   "metadata": {},
   "outputs": [],
   "source": [
    "# Print the aggregated results\n",
    "print(\"\\nAggregated DataFrame:\")\n",
    "aggregated_df"
   ]
  }
 ],
 "metadata": {
  "kernelspec": {
   "display_name": "dev-env",
   "language": "python",
   "name": "python3"
  },
  "language_info": {
   "codemirror_mode": {
    "name": "ipython",
    "version": 3
   },
   "file_extension": ".py",
   "mimetype": "text/x-python",
   "name": "python",
   "nbconvert_exporter": "python",
   "pygments_lexer": "ipython3",
   "version": "3.11.9"
  }
 },
 "nbformat": 4,
 "nbformat_minor": 2
}
