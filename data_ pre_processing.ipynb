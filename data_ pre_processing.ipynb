{
 "cells": [
  {
   "cell_type": "markdown",
   "metadata": {},
   "source": [
    "### Needed Libraries for loading and manipulating csv files"
   ]
  },
  {
   "cell_type": "code",
   "execution_count": 1,
   "metadata": {},
   "outputs": [],
   "source": [
    "import pandas as pd"
   ]
  },
  {
   "cell_type": "code",
   "execution_count": 2,
   "metadata": {},
   "outputs": [],
   "source": [
    "\n",
    "filelocation = r'data/2017-09-01_EPS_BAT_TEMPS.csv'"
   ]
  },
  {
   "cell_type": "code",
   "execution_count": 3,
   "metadata": {},
   "outputs": [],
   "source": [
    "df = pd.read_csv(filelocation, parse_dates=[\"created_on\"])\n",
    "df['temperature'] = df['temperature'].apply(lambda x: str(x.replace(',', '.')))\n",
    "df['temperature'] = pd.to_numeric(df['temperature'])"
   ]
  },
  {
   "cell_type": "code",
   "execution_count": 4,
   "metadata": {},
   "outputs": [],
   "source": [
    "newDF = pd.DataFrame()\n",
    "newDF = newDF.join(df[df.sensor_id == 27]['created_on'])\n",
    "newDF['created_on'] = df[df.sensor_id == 27]['created_on'].values\n",
    "newDF['sensor_27'] = df[df.sensor_id == 27]['temperature'].values\n",
    "newDF['sensor_28'] = df[df.sensor_id == 28]['temperature'].values\n",
    "newDF['sensor_29'] = df[df.sensor_id == 29]['temperature'].values\n",
    "newDF['is_anomaly'] = 0\n",
    "newDF = newDF.rename(columns={\"created_on\": \"timestamp\"})\n",
    "\n",
    "newDF = newDF.set_index('timestamp').shift(periods=2, freq=\"h\")\n",
    "newDF = newDF.reset_index()"
   ]
  },
  {
   "cell_type": "markdown",
   "metadata": {},
   "source": [
    "### Annotate the reported anomaly occurance dates "
   ]
  },
  {
   "cell_type": "code",
   "execution_count": 5,
   "metadata": {},
   "outputs": [],
   "source": [
    "# 28/9/2017  13:50 to 28/9/2017 19:00\n",
    "mark = (newDF['timestamp'] >\n",
    "        '2017-09-28 13:50:00') & (newDF['timestamp'] <= '2017-09-28 19:00:00')\n",
    "newDF.loc[mark, 'is_anomaly'] = 1"
   ]
  },
  {
   "cell_type": "code",
   "execution_count": 6,
   "metadata": {},
   "outputs": [],
   "source": [
    "# 20/09/17 17:05 - 17:11\n",
    "mark = (newDF['timestamp'] >\n",
    "        '2017-09-20 17:05:00') & (newDF['timestamp'] <= '2017-09-20 17:11:00')\n",
    "newDF.loc[mark, 'is_anomaly'] = 1"
   ]
  },
  {
   "cell_type": "code",
   "execution_count": 7,
   "metadata": {},
   "outputs": [],
   "source": [
    "# 21/09/17 18:21 - 18:25\n",
    "mark = (newDF['timestamp'] >\n",
    "        '2017-09-21 18:21:00') & (newDF['timestamp'] <= '2017-09-21 18:25:00')\n",
    "newDF.loc[mark, 'is_anomaly'] = 1"
   ]
  },
  {
   "cell_type": "code",
   "execution_count": 8,
   "metadata": {},
   "outputs": [],
   "source": [
    "# 22/09/17 21:59 - 23:00\n",
    "mark = (newDF['timestamp'] >\n",
    "        '2017-09-22 21:59:00') & (newDF['timestamp'] <= '2017-09-22 23:00:00')\n",
    "newDF.loc[mark, 'is_anomaly'] = 1"
   ]
  },
  {
   "cell_type": "code",
   "execution_count": 9,
   "metadata": {},
   "outputs": [],
   "source": [
    "# 02/09/2017 5:12 - 04/09/2017 10:56\n",
    "mark = (newDF['timestamp'] >\n",
    "        '2017-09-02 05:12:00') & (newDF['timestamp'] <= '2017-09-04 10:56:00')\n",
    "newDF.loc[mark, 'is_anomaly'] = 1"
   ]
  },
  {
   "cell_type": "code",
   "execution_count": 10,
   "metadata": {},
   "outputs": [],
   "source": [
    "# 05/09/2017 15:00 - 20:28\n",
    "mark = (newDF['timestamp'] >\n",
    "        '2017-09-05 15:00:00') & (newDF['timestamp'] <= '2017-09-05 20:28:00')\n",
    "newDF.loc[mark, 'is_anomaly'] = 1"
   ]
  },
  {
   "cell_type": "code",
   "execution_count": 11,
   "metadata": {},
   "outputs": [],
   "source": [
    "# 06/09/2017 6:30 - 11:16\n",
    "mark = (newDF['timestamp'] >\n",
    "        '2017-09-06 06:30:00') & (newDF['timestamp'] <= '2017-09-06 11:16:00')\n",
    "newDF.loc[mark, 'is_anomaly'] = 1"
   ]
  },
  {
   "cell_type": "code",
   "execution_count": 12,
   "metadata": {},
   "outputs": [],
   "source": [
    "newDF.to_csv(r'data/MOVE_II_EPS_BAT_TEMPS_FULL_DATA.csv', index=False)"
   ]
  },
  {
   "cell_type": "markdown",
   "metadata": {},
   "source": [
    "### Create a train and test data for the semi-supervise algorithms"
   ]
  },
  {
   "cell_type": "code",
   "execution_count": 13,
   "metadata": {},
   "outputs": [],
   "source": [
    "trainData = newDF.loc[newDF['is_anomaly'] == 0]\n",
    "testData = newDF.loc[newDF['is_anomaly'] == 1]"
   ]
  },
  {
   "cell_type": "code",
   "execution_count": 14,
   "metadata": {},
   "outputs": [],
   "source": [
    "n = 0.3\n",
    "someGoodData = trainData.tail(int(trainData.shape[0]*n))\n",
    "fulltestdf = pd.merge_ordered(testData, someGoodData)\n",
    "# fulltestdf.head(5)\n"
   ]
  },
  {
   "cell_type": "code",
   "execution_count": 15,
   "metadata": {},
   "outputs": [],
   "source": [
    "trainData.to_csv(r'data/MOVE_II_EPS_BAT_TEMPS_TRAIN_DATA.csv', index=False)\n",
    "fulltestdf.to_csv(r'data/MOVE_II_EPS_BAT_TEMPS_TEST_DATA.csv', index=False)"
   ]
  }
 ],
 "metadata": {
  "kernelspec": {
   "display_name": "timeeval",
   "language": "python",
   "name": "python3"
  },
  "language_info": {
   "codemirror_mode": {
    "name": "ipython",
    "version": 3
   },
   "file_extension": ".py",
   "mimetype": "text/x-python",
   "name": "python",
   "nbconvert_exporter": "python",
   "pygments_lexer": "ipython3",
   "version": "3.8.18"
  }
 },
 "nbformat": 4,
 "nbformat_minor": 2
}
